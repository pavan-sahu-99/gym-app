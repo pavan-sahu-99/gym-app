{
 "cells": [
  {
   "cell_type": "code",
   "execution_count": 49,
   "metadata": {},
   "outputs": [],
   "source": [
    "import pandas as pd\n",
    "import numpy as np\n",
    "from sklearn import datasets\n",
    "from sklearn import metrics\n",
    "from sklearn.linear_model import LogisticRegression\n",
    "from sklearn.ensemble import RandomForestClassifier\n",
    "from sklearn.preprocessing import LabelEncoder"
   ]
  },
  {
   "cell_type": "code",
   "execution_count": 105,
   "metadata": {},
   "outputs": [
    {
     "data": {
      "text/html": [
       "<div>\n",
       "<style scoped>\n",
       "    .dataframe tbody tr th:only-of-type {\n",
       "        vertical-align: middle;\n",
       "    }\n",
       "\n",
       "    .dataframe tbody tr th {\n",
       "        vertical-align: top;\n",
       "    }\n",
       "\n",
       "    .dataframe thead th {\n",
       "        text-align: right;\n",
       "    }\n",
       "</style>\n",
       "<table border=\"1\" class=\"dataframe\">\n",
       "  <thead>\n",
       "    <tr style=\"text-align: right;\">\n",
       "      <th></th>\n",
       "      <th>Age</th>\n",
       "      <th>Height</th>\n",
       "      <th>weight</th>\n",
       "      <th>BMI</th>\n",
       "      <th>Class</th>\n",
       "      <th>Prediction</th>\n",
       "    </tr>\n",
       "  </thead>\n",
       "  <tbody>\n",
       "    <tr>\n",
       "      <th>0</th>\n",
       "      <td>31</td>\n",
       "      <td>4.1</td>\n",
       "      <td>86</td>\n",
       "      <td>40</td>\n",
       "      <td>Extremely obese</td>\n",
       "      <td>Extremely obese--normal exercise+yoga+heavy di...</td>\n",
       "    </tr>\n",
       "    <tr>\n",
       "      <th>1</th>\n",
       "      <td>23</td>\n",
       "      <td>4.1</td>\n",
       "      <td>91</td>\n",
       "      <td>42</td>\n",
       "      <td>Extremely obese</td>\n",
       "      <td>Extremely obese--normal exercise+yoga+heavy di...</td>\n",
       "    </tr>\n",
       "    <tr>\n",
       "      <th>2</th>\n",
       "      <td>58</td>\n",
       "      <td>4.1</td>\n",
       "      <td>95</td>\n",
       "      <td>44</td>\n",
       "      <td>Extremely obese</td>\n",
       "      <td>Extremely obese--normal exercise+yoga+heavy di...</td>\n",
       "    </tr>\n",
       "    <tr>\n",
       "      <th>3</th>\n",
       "      <td>28</td>\n",
       "      <td>4.1</td>\n",
       "      <td>100</td>\n",
       "      <td>46</td>\n",
       "      <td>Extremely obese</td>\n",
       "      <td>Extremely obese--normal exercise+yoga+heavy di...</td>\n",
       "    </tr>\n",
       "    <tr>\n",
       "      <th>4</th>\n",
       "      <td>48</td>\n",
       "      <td>4.1</td>\n",
       "      <td>104</td>\n",
       "      <td>48</td>\n",
       "      <td>Extremely obese</td>\n",
       "      <td>Extremely obese--normal exercise+yoga+heavy di...</td>\n",
       "    </tr>\n",
       "  </tbody>\n",
       "</table>\n",
       "</div>"
      ],
      "text/plain": [
       "   Age  Height  weight  BMI            Class  \\\n",
       "0   31     4.1      86   40  Extremely obese   \n",
       "1   23     4.1      91   42  Extremely obese   \n",
       "2   58     4.1      95   44  Extremely obese   \n",
       "3   28     4.1     100   46  Extremely obese   \n",
       "4   48     4.1     104   48  Extremely obese   \n",
       "\n",
       "                                          Prediction  \n",
       "0  Extremely obese--normal exercise+yoga+heavy di...  \n",
       "1  Extremely obese--normal exercise+yoga+heavy di...  \n",
       "2  Extremely obese--normal exercise+yoga+heavy di...  \n",
       "3  Extremely obese--normal exercise+yoga+heavy di...  \n",
       "4  Extremely obese--normal exercise+yoga+heavy di...  "
      ]
     },
     "execution_count": 105,
     "metadata": {},
     "output_type": "execute_result"
    }
   ],
   "source": [
    "data = pd.read_excel(r\"C:\\Users\\user\\OneDrive\\Desktop\\Gymapp\\dataGym.xlsx\")\n",
    "data.head()"
   ]
  },
  {
   "cell_type": "code",
   "execution_count": 5,
   "metadata": {},
   "outputs": [],
   "source": [
    "#data['weight'] = data['weight']*2.2"
   ]
  },
  {
   "cell_type": "code",
   "execution_count": 106,
   "metadata": {},
   "outputs": [],
   "source": [
    "data['Class'] = data['Class'].replace('Healthy\\xa0','Healthy').replace('EXtremely obese','Extremely obese').replace('Extremely obese','Extremelyobese')"
   ]
  },
  {
   "cell_type": "code",
   "execution_count": 107,
   "metadata": {},
   "outputs": [
    {
     "data": {
      "text/plain": [
       "array(['Extremelyobese', 'Healthy', 'Obese', 'Overweight', 'Under weight'],\n",
       "      dtype=object)"
      ]
     },
     "execution_count": 107,
     "metadata": {},
     "output_type": "execute_result"
    }
   ],
   "source": [
    "data['Class'].unique()"
   ]
  },
  {
   "cell_type": "code",
   "execution_count": 108,
   "metadata": {},
   "outputs": [
    {
     "data": {
      "text/plain": [
       "array(['Extremely obese--normal exercise+yoga+heavy dite control+TIPS ->Obese',\n",
       "       'Healthy--fitness+protine+simple dite',\n",
       "       'Obese--slow lean+protine+full dite ->Overweight',\n",
       "       'Overweight--lean+cardio+protine+normal dite ->Healthy',\n",
       "       'Under weight--protines+carbs+normal weights ->Healthy'],\n",
       "      dtype=object)"
      ]
     },
     "execution_count": 108,
     "metadata": {},
     "output_type": "execute_result"
    }
   ],
   "source": [
    "data['Prediction'].unique()"
   ]
  },
  {
   "cell_type": "code",
   "execution_count": 109,
   "metadata": {},
   "outputs": [],
   "source": [
    "l = ['Extremely obese--normal exercise+yoga+heavy dite control+TIPS ->Obese',\n",
    "       'Healthy--fitness+protine+simple dite',\n",
    "       'Obese--slow lean+protine+full dite ->Overweight',\n",
    "       'Overweight--lean+cardio+protine+normal dite ->Healthy',\n",
    "       'Under weight--protines+carbs+normal weights ->Healthy']\n",
    "a = ['Extreme Calorie deficiet+ no cheat days +Cardio+ Regular Gym + Patience','Regular gym + Calorie surplus + keep it up',\n",
    "     'Calorie deficiet+ Cardio+ Regular Gym+ Patience','Calorie deficiet+ Cardio+ Regular Gym', 'Calorie Surplus + Regular gym' ]\n",
    "j = 0\n",
    "for i in l:\n",
    "    data['Prediction'] = data['Prediction'].replace(l[j],a[j])\n",
    "    j+=1"
   ]
  },
  {
   "cell_type": "code",
   "execution_count": 110,
   "metadata": {
    "scrolled": true
   },
   "outputs": [
    {
     "data": {
      "text/plain": [
       "array(['Extreme Calorie deficiet+ no cheat days +Cardio+ Regular Gym + Patience',\n",
       "       'Regular gym + Calorie surplus + keep it up',\n",
       "       'Calorie deficiet+ Cardio+ Regular Gym+ Patience',\n",
       "       'Calorie deficiet+ Cardio+ Regular Gym',\n",
       "       'Calorie Surplus + Regular gym'], dtype=object)"
      ]
     },
     "execution_count": 110,
     "metadata": {},
     "output_type": "execute_result"
    }
   ],
   "source": [
    "data['Prediction'].unique()"
   ]
  },
  {
   "cell_type": "code",
   "execution_count": 111,
   "metadata": {},
   "outputs": [
    {
     "data": {
      "text/plain": [
       "Calorie deficiet+ Cardio+ Regular Gym+ Patience                            281\n",
       "Calorie Surplus + Regular gym                                              248\n",
       "Regular gym + Calorie surplus + keep it up                                 232\n",
       "Extreme Calorie deficiet+ no cheat days +Cardio+ Regular Gym + Patience    216\n",
       "Calorie deficiet+ Cardio+ Regular Gym                                      199\n",
       "Name: Prediction, dtype: int64"
      ]
     },
     "execution_count": 111,
     "metadata": {},
     "output_type": "execute_result"
    }
   ],
   "source": [
    "data['Prediction'].value_counts()"
   ]
  },
  {
   "cell_type": "code",
   "execution_count": 112,
   "metadata": {},
   "outputs": [
    {
     "data": {
      "text/plain": [
       "Obese             281\n",
       "Under weight      248\n",
       "Healthy           232\n",
       "Extremelyobese    216\n",
       "Overweight        199\n",
       "Name: Class, dtype: int64"
      ]
     },
     "execution_count": 112,
     "metadata": {},
     "output_type": "execute_result"
    }
   ],
   "source": [
    "data['Class'].value_counts()"
   ]
  },
  {
   "cell_type": "code",
   "execution_count": 113,
   "metadata": {
    "scrolled": true
   },
   "outputs": [
    {
     "data": {
      "text/html": [
       "<div>\n",
       "<style scoped>\n",
       "    .dataframe tbody tr th:only-of-type {\n",
       "        vertical-align: middle;\n",
       "    }\n",
       "\n",
       "    .dataframe tbody tr th {\n",
       "        vertical-align: top;\n",
       "    }\n",
       "\n",
       "    .dataframe thead th {\n",
       "        text-align: right;\n",
       "    }\n",
       "</style>\n",
       "<table border=\"1\" class=\"dataframe\">\n",
       "  <thead>\n",
       "    <tr style=\"text-align: right;\">\n",
       "      <th></th>\n",
       "      <th>Age</th>\n",
       "      <th>Height</th>\n",
       "      <th>weight</th>\n",
       "      <th>BMI</th>\n",
       "      <th>Class</th>\n",
       "      <th>Prediction</th>\n",
       "    </tr>\n",
       "  </thead>\n",
       "  <tbody>\n",
       "    <tr>\n",
       "      <th>0</th>\n",
       "      <td>31</td>\n",
       "      <td>4.1</td>\n",
       "      <td>86</td>\n",
       "      <td>40</td>\n",
       "      <td>Extremelyobese</td>\n",
       "      <td>Extreme Calorie deficiet+ no cheat days +Cardi...</td>\n",
       "    </tr>\n",
       "    <tr>\n",
       "      <th>1</th>\n",
       "      <td>23</td>\n",
       "      <td>4.1</td>\n",
       "      <td>91</td>\n",
       "      <td>42</td>\n",
       "      <td>Extremelyobese</td>\n",
       "      <td>Extreme Calorie deficiet+ no cheat days +Cardi...</td>\n",
       "    </tr>\n",
       "    <tr>\n",
       "      <th>2</th>\n",
       "      <td>58</td>\n",
       "      <td>4.1</td>\n",
       "      <td>95</td>\n",
       "      <td>44</td>\n",
       "      <td>Extremelyobese</td>\n",
       "      <td>Extreme Calorie deficiet+ no cheat days +Cardi...</td>\n",
       "    </tr>\n",
       "    <tr>\n",
       "      <th>3</th>\n",
       "      <td>28</td>\n",
       "      <td>4.1</td>\n",
       "      <td>100</td>\n",
       "      <td>46</td>\n",
       "      <td>Extremelyobese</td>\n",
       "      <td>Extreme Calorie deficiet+ no cheat days +Cardi...</td>\n",
       "    </tr>\n",
       "    <tr>\n",
       "      <th>4</th>\n",
       "      <td>48</td>\n",
       "      <td>4.1</td>\n",
       "      <td>104</td>\n",
       "      <td>48</td>\n",
       "      <td>Extremelyobese</td>\n",
       "      <td>Extreme Calorie deficiet+ no cheat days +Cardi...</td>\n",
       "    </tr>\n",
       "  </tbody>\n",
       "</table>\n",
       "</div>"
      ],
      "text/plain": [
       "   Age  Height  weight  BMI           Class  \\\n",
       "0   31     4.1      86   40  Extremelyobese   \n",
       "1   23     4.1      91   42  Extremelyobese   \n",
       "2   58     4.1      95   44  Extremelyobese   \n",
       "3   28     4.1     100   46  Extremelyobese   \n",
       "4   48     4.1     104   48  Extremelyobese   \n",
       "\n",
       "                                          Prediction  \n",
       "0  Extreme Calorie deficiet+ no cheat days +Cardi...  \n",
       "1  Extreme Calorie deficiet+ no cheat days +Cardi...  \n",
       "2  Extreme Calorie deficiet+ no cheat days +Cardi...  \n",
       "3  Extreme Calorie deficiet+ no cheat days +Cardi...  \n",
       "4  Extreme Calorie deficiet+ no cheat days +Cardi...  "
      ]
     },
     "execution_count": 113,
     "metadata": {},
     "output_type": "execute_result"
    }
   ],
   "source": [
    "data.head()"
   ]
  },
  {
   "cell_type": "code",
   "execution_count": 104,
   "metadata": {},
   "outputs": [],
   "source": [
    "#data['Class'] = LabelEncoder().fit_transform(data['Class'])"
   ]
  },
  {
   "cell_type": "code",
   "execution_count": 114,
   "metadata": {},
   "outputs": [
    {
     "data": {
      "text/plain": [
       "array(['Extremelyobese', 'Healthy', 'Obese', 'Overweight', 'Under weight'],\n",
       "      dtype=object)"
      ]
     },
     "execution_count": 114,
     "metadata": {},
     "output_type": "execute_result"
    }
   ],
   "source": [
    "data['Class'].unique()"
   ]
  },
  {
   "cell_type": "code",
   "execution_count": 115,
   "metadata": {},
   "outputs": [
    {
     "data": {
      "text/html": [
       "<div>\n",
       "<style scoped>\n",
       "    .dataframe tbody tr th:only-of-type {\n",
       "        vertical-align: middle;\n",
       "    }\n",
       "\n",
       "    .dataframe tbody tr th {\n",
       "        vertical-align: top;\n",
       "    }\n",
       "\n",
       "    .dataframe thead th {\n",
       "        text-align: right;\n",
       "    }\n",
       "</style>\n",
       "<table border=\"1\" class=\"dataframe\">\n",
       "  <thead>\n",
       "    <tr style=\"text-align: right;\">\n",
       "      <th></th>\n",
       "      <th>Age</th>\n",
       "      <th>Height</th>\n",
       "      <th>weight</th>\n",
       "    </tr>\n",
       "  </thead>\n",
       "  <tbody>\n",
       "    <tr>\n",
       "      <th>0</th>\n",
       "      <td>31</td>\n",
       "      <td>4.1</td>\n",
       "      <td>86</td>\n",
       "    </tr>\n",
       "    <tr>\n",
       "      <th>1</th>\n",
       "      <td>23</td>\n",
       "      <td>4.1</td>\n",
       "      <td>91</td>\n",
       "    </tr>\n",
       "    <tr>\n",
       "      <th>2</th>\n",
       "      <td>58</td>\n",
       "      <td>4.1</td>\n",
       "      <td>95</td>\n",
       "    </tr>\n",
       "    <tr>\n",
       "      <th>3</th>\n",
       "      <td>28</td>\n",
       "      <td>4.1</td>\n",
       "      <td>100</td>\n",
       "    </tr>\n",
       "    <tr>\n",
       "      <th>4</th>\n",
       "      <td>48</td>\n",
       "      <td>4.1</td>\n",
       "      <td>104</td>\n",
       "    </tr>\n",
       "  </tbody>\n",
       "</table>\n",
       "</div>"
      ],
      "text/plain": [
       "   Age  Height  weight\n",
       "0   31     4.1      86\n",
       "1   23     4.1      91\n",
       "2   58     4.1      95\n",
       "3   28     4.1     100\n",
       "4   48     4.1     104"
      ]
     },
     "execution_count": 115,
     "metadata": {},
     "output_type": "execute_result"
    }
   ],
   "source": [
    "X =data.iloc[:,:3]\n",
    "X.head()"
   ]
  },
  {
   "cell_type": "code",
   "execution_count": 116,
   "metadata": {},
   "outputs": [
    {
     "data": {
      "text/plain": [
       "0    Extremelyobese\n",
       "1    Extremelyobese\n",
       "2    Extremelyobese\n",
       "3    Extremelyobese\n",
       "4    Extremelyobese\n",
       "Name: Class, dtype: object"
      ]
     },
     "execution_count": 116,
     "metadata": {},
     "output_type": "execute_result"
    }
   ],
   "source": [
    "y = data.iloc[:,4]\n",
    "y.head()"
   ]
  },
  {
   "cell_type": "code",
   "execution_count": 117,
   "metadata": {},
   "outputs": [],
   "source": [
    "#splitting pf data\n",
    "from sklearn.model_selection import train_test_split\n",
    "X_train, X_test, y_train, y_test = train_test_split(X,y, test_size=0.2)"
   ]
  },
  {
   "cell_type": "code",
   "execution_count": 118,
   "metadata": {},
   "outputs": [
    {
     "data": {
      "text/html": [
       "<div>\n",
       "<style scoped>\n",
       "    .dataframe tbody tr th:only-of-type {\n",
       "        vertical-align: middle;\n",
       "    }\n",
       "\n",
       "    .dataframe tbody tr th {\n",
       "        vertical-align: top;\n",
       "    }\n",
       "\n",
       "    .dataframe thead th {\n",
       "        text-align: right;\n",
       "    }\n",
       "</style>\n",
       "<table border=\"1\" class=\"dataframe\">\n",
       "  <thead>\n",
       "    <tr style=\"text-align: right;\">\n",
       "      <th></th>\n",
       "      <th>Age</th>\n",
       "      <th>Height</th>\n",
       "      <th>weight</th>\n",
       "    </tr>\n",
       "  </thead>\n",
       "  <tbody>\n",
       "    <tr>\n",
       "      <th>321</th>\n",
       "      <td>58</td>\n",
       "      <td>5.11</td>\n",
       "      <td>95</td>\n",
       "    </tr>\n",
       "    <tr>\n",
       "      <th>751</th>\n",
       "      <td>37</td>\n",
       "      <td>6.10</td>\n",
       "      <td>45</td>\n",
       "    </tr>\n",
       "    <tr>\n",
       "      <th>189</th>\n",
       "      <td>53</td>\n",
       "      <td>5.00</td>\n",
       "      <td>45</td>\n",
       "    </tr>\n",
       "    <tr>\n",
       "      <th>869</th>\n",
       "      <td>44</td>\n",
       "      <td>6.20</td>\n",
       "      <td>100</td>\n",
       "    </tr>\n",
       "    <tr>\n",
       "      <th>943</th>\n",
       "      <td>32</td>\n",
       "      <td>6.40</td>\n",
       "      <td>132</td>\n",
       "    </tr>\n",
       "  </tbody>\n",
       "</table>\n",
       "</div>"
      ],
      "text/plain": [
       "     Age  Height  weight\n",
       "321   58    5.11      95\n",
       "751   37    6.10      45\n",
       "189   53    5.00      45\n",
       "869   44    6.20     100\n",
       "943   32    6.40     132"
      ]
     },
     "execution_count": 118,
     "metadata": {},
     "output_type": "execute_result"
    }
   ],
   "source": [
    "X_test.head()"
   ]
  },
  {
   "cell_type": "code",
   "execution_count": 119,
   "metadata": {},
   "outputs": [
    {
     "data": {
      "text/plain": [
       "321      Overweight\n",
       "751    Under weight\n",
       "189         Healthy\n",
       "869      Overweight\n",
       "943           Obese\n",
       "Name: Class, dtype: object"
      ]
     },
     "execution_count": 119,
     "metadata": {},
     "output_type": "execute_result"
    }
   ],
   "source": [
    "y_test.head()"
   ]
  },
  {
   "cell_type": "code",
   "execution_count": 120,
   "metadata": {},
   "outputs": [
    {
     "data": {
      "text/plain": [
       "RandomForestClassifier(n_estimators=20)"
      ]
     },
     "execution_count": 120,
     "metadata": {},
     "output_type": "execute_result"
    }
   ],
   "source": [
    "model_GYM = RandomForestClassifier(n_estimators=20)\n",
    "model_GYM.fit(X_train, y_train.values.ravel())"
   ]
  },
  {
   "cell_type": "code",
   "execution_count": 121,
   "metadata": {
    "scrolled": true
   },
   "outputs": [],
   "source": [
    "# make predictions\n",
    "expected = y_test\n",
    "predicted = model_GYM.predict(X_test)"
   ]
  },
  {
   "cell_type": "code",
   "execution_count": 122,
   "metadata": {},
   "outputs": [
    {
     "name": "stdout",
     "output_type": "stream",
     "text": [
      "                precision    recall  f1-score   support\n",
      "\n",
      "Extremelyobese       0.84      0.95      0.89        38\n",
      "       Healthy       0.75      0.87      0.80        47\n",
      "         Obese       0.80      0.80      0.80        59\n",
      "    Overweight       0.72      0.55      0.62        42\n",
      "  Under weight       0.94      0.88      0.91        50\n",
      "\n",
      "      accuracy                           0.81       236\n",
      "     macro avg       0.81      0.81      0.80       236\n",
      "  weighted avg       0.81      0.81      0.81       236\n",
      "\n",
      "[[36  0  2  0  0]\n",
      " [ 0 41  0  3  3]\n",
      " [ 6  0 47  6  0]\n",
      " [ 1  8 10 23  0]\n",
      " [ 0  6  0  0 44]]\n"
     ]
    }
   ],
   "source": [
    "# summarize the fit of the model\n",
    "#Correction\n",
    "print(metrics.classification_report(expected, predicted))\n",
    "print(metrics.confusion_matrix(expected, predicted))"
   ]
  }
 ],
 "metadata": {
  "kernelspec": {
   "display_name": "Python 3",
   "language": "python",
   "name": "python3"
  },
  "language_info": {
   "codemirror_mode": {
    "name": "ipython",
    "version": 3
   },
   "file_extension": ".py",
   "mimetype": "text/x-python",
   "name": "python",
   "nbconvert_exporter": "python",
   "pygments_lexer": "ipython3",
   "version": "3.8.5"
  }
 },
 "nbformat": 4,
 "nbformat_minor": 4
}
